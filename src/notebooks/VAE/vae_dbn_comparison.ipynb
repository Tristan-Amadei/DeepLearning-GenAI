{
 "cells": [
  {
   "cell_type": "code",
   "execution_count": 1,
   "metadata": {},
   "outputs": [],
   "source": [
    "import numpy as np\n",
    "import matplotlib.pyplot as plt\n",
    "import pickle\n",
    "from tqdm import tqdm\n",
    "from IPython.display import clear_output\n",
    "\n",
    "import sys\n",
    "sys.path.append('../..')\n",
    "\n",
    "from vae import VAEModel, compute_fid_score\n",
    "from rbm import RBM\n",
    "from dbn import DBN\n",
    "from load_data import load_mnist"
   ]
  },
  {
   "cell_type": "markdown",
   "metadata": {},
   "source": [
    "# Load data"
   ]
  },
  {
   "cell_type": "code",
   "execution_count": 2,
   "metadata": {},
   "outputs": [],
   "source": [
    "X_train, y_train, X_test, y_test = load_mnist(binarize=True)"
   ]
  },
  {
   "cell_type": "markdown",
   "metadata": {},
   "source": [
    "# VAE - Image Generation"
   ]
  },
  {
   "cell_type": "code",
   "execution_count": 3,
   "metadata": {},
   "outputs": [],
   "source": [
    "PATH = './vae_fid_scores.pkl'\n",
    "\n",
    "def load_dict(path=PATH):\n",
    "    with open(path, 'rb') as handle:\n",
    "        d = pickle.load(handle)\n",
    "    return d\n",
    "\n",
    "def save_dict(d, path=PATH):\n",
    "    with open(path, 'wb') as handle:\n",
    "        pickle.dump(d, handle, protocol=pickle.HIGHEST_PROTOCOL)"
   ]
  },
  {
   "cell_type": "code",
   "execution_count": 4,
   "metadata": {},
   "outputs": [],
   "source": [
    "### Load and sort the dictionary of results ###\n",
    "\n",
    "dict_results = load_dict()\n",
    "sorted_values = sorted(dict_results.items(), key=lambda item: item[1])  # Sort by the second element (value)\n",
    "dict_results = dict(sorted_values)"
   ]
  },
  {
   "cell_type": "code",
   "execution_count": 5,
   "metadata": {},
   "outputs": [
    {
     "name": "stdout",
     "output_type": "stream",
     "text": [
      "Beta: 0.01, latent dimension: 2, leaky_relu scope: 0.2\n"
     ]
    }
   ],
   "source": [
    "best_parameters = list(dict_results.keys())[0]\n",
    "beta = float(best_parameters.split(',')[0])\n",
    "latent_dim = int(best_parameters.split(',')[1])\n",
    "alpha_lrelu = float(best_parameters.split(',')[2])\n",
    "print(f'Beta: {beta}, latent dimension: {latent_dim}, leaky_relu scope: {alpha_lrelu}')"
   ]
  },
  {
   "cell_type": "code",
   "execution_count": 6,
   "metadata": {},
   "outputs": [],
   "source": [
    "vae_model = VAEModel(latent_dim=latent_dim, beta=beta, alpha_lrelu=alpha_lrelu)"
   ]
  },
  {
   "cell_type": "code",
   "execution_count": 7,
   "metadata": {},
   "outputs": [
    {
     "name": "stdout",
     "output_type": "stream",
     "text": [
      "Nb parameters for VAE: 1,068,820\n"
     ]
    }
   ],
   "source": [
    "nb_params_vae = 0\n",
    "for param in vae_model.parameters():\n",
    "    nb_params_vae += np.prod(param.size())\n",
    "\n",
    "print(f\"Nb parameters for VAE: {nb_params_vae:,}\")"
   ]
  },
  {
   "cell_type": "code",
   "execution_count": 8,
   "metadata": {},
   "outputs": [
    {
     "name": "stdout",
     "output_type": "stream",
     "text": [
      "Epoch 0: error = 218.2041\n"
     ]
    }
   ],
   "source": [
    "_ = vae_model.train_vae(X_train, 1000, learning_rate=3e-4, batch_size=256, print_error_every=10, patience=30)"
   ]
  },
  {
   "cell_type": "code",
   "execution_count": null,
   "metadata": {},
   "outputs": [],
   "source": [
    "vae_gen = vae_model.generate_data()"
   ]
  },
  {
   "cell_type": "code",
   "execution_count": null,
   "metadata": {},
   "outputs": [],
   "source": [
    "vae_fid_score = vae_model.compute_fid_score(X_test)\n",
    "print(f\"FID score with VAE: {vae_fid_score:.4f}\")"
   ]
  },
  {
   "cell_type": "markdown",
   "metadata": {},
   "source": [
    "# DBN"
   ]
  },
  {
   "cell_type": "code",
   "execution_count": null,
   "metadata": {},
   "outputs": [],
   "source": [
    "def compute_params_rbm(rbm):\n",
    "    return rbm.a.shape[0] + rbm.b.shape[0] + np.prod(rbm.W.shape)"
   ]
  },
  {
   "cell_type": "code",
   "execution_count": null,
   "metadata": {},
   "outputs": [],
   "source": [
    "dbn_model = DBN(X=X_train, L=5, qs=[128, 512, 784, 512, 256], use_adam=True)"
   ]
  },
  {
   "cell_type": "code",
   "execution_count": null,
   "metadata": {},
   "outputs": [
    {
     "name": "stdout",
     "output_type": "stream",
     "text": [
      "nb parameters for DBN: 1,104,688\n"
     ]
    }
   ],
   "source": [
    "nb_params_dbn = 0\n",
    "for rbm in dbn_model.rbms:\n",
    "    nb_params_dbn += compute_params_rbm(rbm)\n",
    "\n",
    "print(f\"nb parameters for DBN: {nb_params_dbn:,}\")"
   ]
  },
  {
   "cell_type": "code",
   "execution_count": null,
   "metadata": {},
   "outputs": [],
   "source": [
    "dbn_model.train_DBN(epochs=1000, learning_rate=3e-4, batch_size=128)"
   ]
  },
  {
   "cell_type": "code",
   "execution_count": null,
   "metadata": {},
   "outputs": [],
   "source": [
    "_ = dbn_model.generer_image_DBN(num_samples=20, gibbs_steps=1000, ncols=10, image_size=(28, 28))"
   ]
  },
  {
   "cell_type": "code",
   "execution_count": null,
   "metadata": {},
   "outputs": [],
   "source": [
    "dbn_generated_images = dbn_model.generer_image_DBN(num_samples=len(X_test), gibbs_steps=1000, plot_=False)\n",
    "dbn_fid_score = compute_fid_score(X_test, dbn_generated_images, device=torch.device(\"cuda\" if torch.cuda.is_available() else \"cpu\"))\n",
    "print(f\"FID score with DBN: {dbn_fid_score:.4f}\")"
   ]
  },
  {
   "cell_type": "markdown",
   "metadata": {},
   "source": [
    "# RBM"
   ]
  },
  {
   "cell_type": "code",
   "execution_count": null,
   "metadata": {},
   "outputs": [
    {
     "name": "stdout",
     "output_type": "stream",
     "text": [
      "nb parameters for RBM: 1,118,624\n"
     ]
    }
   ],
   "source": [
    "rbm_model = RBM(X=X_train, q=784+512+128, use_adam=True)\n",
    "\n",
    "nb_params_rbm = compute_params_rbm(rbm_model)\n",
    "print(f\"nb parameters for RBM: {nb_params_rbm:,}\")"
   ]
  },
  {
   "cell_type": "code",
   "execution_count": null,
   "metadata": {},
   "outputs": [],
   "source": [
    "_ = rbm_model.train_RBM(1000, learning_rate=3e-4, batch_size=256, plot_errors=True)"
   ]
  },
  {
   "cell_type": "code",
   "execution_count": null,
   "metadata": {},
   "outputs": [],
   "source": [
    "_ = rbm_model.generer_image_RBM(nb_step_gibbs=1000, nb_to_generate=20, ncols=10, image_size=(28, 28))"
   ]
  },
  {
   "cell_type": "code",
   "execution_count": null,
   "metadata": {},
   "outputs": [],
   "source": [
    "rbm_generated_images = rbm_model.generer_image_RBM(nb_step_gibbs=1000, nb_to_generate=len(X_test), ncols=10, plot_=False)\n",
    "rbm_fid_score = compute_fid_score(X_test, rbm_generated_images, device=torch.device(\"cuda\" if torch.cuda.is_available() else \"cpu\"))\n",
    "print(f\"FID score with RBM: {dbn_fid_score:.4f}\")"
   ]
  }
 ],
 "metadata": {
  "kernelspec": {
   "display_name": "base",
   "language": "python",
   "name": "python3"
  },
  "language_info": {
   "codemirror_mode": {
    "name": "ipython",
    "version": 3
   },
   "file_extension": ".py",
   "mimetype": "text/x-python",
   "name": "python",
   "nbconvert_exporter": "python",
   "pygments_lexer": "ipython3",
   "version": "3.11.6"
  }
 },
 "nbformat": 4,
 "nbformat_minor": 2
}
